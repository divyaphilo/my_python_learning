{
 "cells": [
  {
   "cell_type": "code",
   "execution_count": 1,
   "id": "cb42ab83-1905-4a8f-9832-599c5005d656",
   "metadata": {},
   "outputs": [
    {
     "ename": "SyntaxError",
     "evalue": "unexpected character after line continuation character (814738588.py, line 1)",
     "output_type": "error",
     "traceback": [
      "\u001b[1;36m  Cell \u001b[1;32mIn[1], line 1\u001b[1;36m\u001b[0m\n\u001b[1;33m    print (\"Name:Divya\"\\n\"Gender:Female\")\u001b[0m\n\u001b[1;37m                        ^\u001b[0m\n\u001b[1;31mSyntaxError\u001b[0m\u001b[1;31m:\u001b[0m unexpected character after line continuation character\n"
     ]
    }
   ],
   "source": [
    "print (\"Name:Divya\"\\n\"Gender:Female\")"
   ]
  },
  {
   "cell_type": "code",
   "execution_count": 5,
   "id": "737eeb5c-f949-4a14-b95c-71ccad401598",
   "metadata": {},
   "outputs": [
    {
     "name": "stdout",
     "output_type": "stream",
     "text": [
      "Name:Divya\n",
      "Gender:Female\n",
      "Name\t:\tDivya\n",
      "Gender\t:\tFemale\n"
     ]
    }
   ],
   "source": [
    "print (\"Name:Divya\\nGender:Female\")\n",
    "print (\"Name\\t:\\tDivya\\nGender\\t:\\tFemale\")"
   ]
  },
  {
   "cell_type": "markdown",
   "id": "7ceff513-e9d4-4d09-a68b-eb8d483b9ef1",
   "metadata": {},
   "source": [
    "# To have space between two words then : You have to use ( \\t ) in between.\n",
    "# ( \\t ) Represents - Space between the collen for alignment purpose."
   ]
  },
  {
   "cell_type": "markdown",
   "id": "aed6435b-cd83-4570-a431-fb870bd4d27d",
   "metadata": {},
   "source": [
    "# To print multiple lines of words in a single line of code then : You have to use  ( \\n ) and then continue with following next line of codes.\n",
    "# ( \\n ) represents - New Line."
   ]
  },
  {
   "cell_type": "markdown",
   "id": "bf3cbdec-2de0-4463-a82b-f71bf4aac2ed",
   "metadata": {},
   "source": [
    "https://www.youtube.com/watch?v=sMPV7n-pQWM&list=PLA2UBjeRwle3OLO3qmXTbmCvuTlqhHRVb&index=4 - This video link."
   ]
  },
  {
   "cell_type": "code",
   "execution_count": 29,
   "id": "d46e716c-83ed-4d68-991d-923587bd0d89",
   "metadata": {},
   "outputs": [
    {
     "ename": "SyntaxError",
     "evalue": "invalid syntax. Perhaps you forgot a comma? (3096307467.py, line 2)",
     "output_type": "error",
     "traceback": [
      "\u001b[1;36m  Cell \u001b[1;32mIn[29], line 2\u001b[1;36m\u001b[0m\n\u001b[1;33m    print (\"\"Happy\" \"Learning!!!\"\\n\"And\" \"Have\", \"Fun\",sep=\"_\"\")\u001b[0m\n\u001b[1;37m           ^\u001b[0m\n\u001b[1;31mSyntaxError\u001b[0m\u001b[1;31m:\u001b[0m invalid syntax. Perhaps you forgot a comma?\n"
     ]
    }
   ],
   "source": [
    "print (\"Happy Learning!!!\\nAnd Have Fun\")\n",
    "print (\"\"Happy\" \"Learning!!!\"\\n\"And\" \"Have\", \"Fun\",sep=\"_\"\")"
   ]
  },
  {
   "cell_type": "code",
   "execution_count": 31,
   "id": "e4e0e3c1-609a-4129-8fb6-41886048086f",
   "metadata": {},
   "outputs": [
    {
     "name": "stdout",
     "output_type": "stream",
     "text": [
      "Happy Learning!!!\n",
      "And Have_Fun\n"
     ]
    }
   ],
   "source": [
    "print(\"Happy Learning!!!\\nAnd Have\", \"Fun\", sep=\"_\")\n"
   ]
  },
  {
   "cell_type": "code",
   "execution_count": 35,
   "id": "e452e4a4-5a92-456d-a47e-eeea80bf512d",
   "metadata": {},
   "outputs": [
    {
     "name": "stdout",
     "output_type": "stream",
     "text": [
      "Happy Learning!!!\n",
      "And have_Fun\n"
     ]
    }
   ],
   "source": [
    "print (\"Happy Learning!!!\\nAnd have\", \"Fun\", sep=\"_\")"
   ]
  },
  {
   "cell_type": "code",
   "execution_count": 47,
   "id": "adf32193-17d7-47ae-ad93-70fa874f7d20",
   "metadata": {},
   "outputs": [
    {
     "name": "stdout",
     "output_type": "stream",
     "text": [
      "Happy Learning And Have Fun."
     ]
    }
   ],
   "source": [
    "print (\"Happy\",end=\" \")\n",
    "print (\"Learning\",end=\" \")\n",
    "print (\"And\",end=\" \") \n",
    "print (\"Have\",end=\" \")\n",
    "print (\"Fun\",end=\".\")"
   ]
  },
  {
   "cell_type": "code",
   "execution_count": 59,
   "id": "e5919c96-2dda-4b8f-a66d-ddd7d07f3167",
   "metadata": {},
   "outputs": [
    {
     "name": "stdout",
     "output_type": "stream",
     "text": [
      "Welcome to Learning Platform\n",
      "\t*Python Series\n",
      "\t*Tips and Tricks\t"
     ]
    }
   ],
   "source": [
    "#Expected Output as below:-\n",
    "\n",
    "#Welcome to Learning Platform\n",
    "# *Python\n",
    "# *Tips and Tricks\n",
    "\n",
    "print (\"Welcome\",end=\" \")\n",
    "print (\"to\",end=\" \")\n",
    "print (\"Learning\",end=\" \")\n",
    "print (\"Platform\",end=\"\\n\\t*\")\n",
    "print (\"Python Series\",end=\"\\n\\t*\")\n",
    "print (\"Tips and Tricks\",end=\"\\t\")\n"
   ]
  },
  {
   "cell_type": "code",
   "execution_count": 61,
   "id": "3ea340b5-2319-42bb-bbbe-190920f695f2",
   "metadata": {},
   "outputs": [
    {
     "name": "stdout",
     "output_type": "stream",
     "text": [
      "10\n",
      "20\n"
     ]
    }
   ],
   "source": [
    "# Learning Variable with allocating a value for each variable:\n",
    "# Before (=) Variable_Name a = 10.\n",
    "# After (=) Value 10.\n",
    "# a=10....\n",
    "\n",
    "a=10\n",
    "b=20\n",
    "print (a)\n",
    "print (b)\n",
    "\n"
   ]
  },
  {
   "cell_type": "code",
   "execution_count": 63,
   "id": "b55ef582-900f-4e4a-b3e0-435b25151e22",
   "metadata": {},
   "outputs": [
    {
     "name": "stdout",
     "output_type": "stream",
     "text": [
      "10\n",
      "20\n"
     ]
    }
   ],
   "source": [
    "# To assign value for an multiple lines variable in a single line: is as below:-\n",
    "\n",
    "a,b=10,20\n",
    "print(a)\n",
    "print(b)"
   ]
  },
  {
   "cell_type": "code",
   "execution_count": 65,
   "id": "b2e8fe6d-b82e-4949-867a-6c36345e3b95",
   "metadata": {},
   "outputs": [
    {
     "name": "stdout",
     "output_type": "stream",
     "text": [
      "5\n",
      "5\n"
     ]
    }
   ],
   "source": [
    "# If a variable has same value ie., ex: x and y = '5\". How to wrire code? Follow as below:- \n",
    "# This is because of to avoid multiple lines of code.\n",
    "\n",
    "x=y=5\n",
    "print (x)\n",
    "print (y)"
   ]
  },
  {
   "cell_type": "code",
   "execution_count": 71,
   "id": "6d05c4fa-3a67-4563-9176-a8c6bad82417",
   "metadata": {},
   "outputs": [
    {
     "name": "stdout",
     "output_type": "stream",
     "text": [
      "10\n",
      "10\n"
     ]
    }
   ],
   "source": [
    "# To name variable = 1st rule is : it must start with (Alphabet) or(_)\n",
    "# Example as follows :   age=10\n",
    "#                        _age=10\n",
    "\n",
    "age=10\n",
    "_age=10\n",
    "print(age)\n",
    "print(_age)\n"
   ]
  },
  {
   "cell_type": "code",
   "execution_count": 83,
   "id": "3d0fc144-dd83-4940-a673-8f5a5b264edc",
   "metadata": {},
   "outputs": [
    {
     "ename": "SyntaxError",
     "evalue": "invalid decimal literal (4090768399.py, line 2)",
     "output_type": "error",
     "traceback": [
      "\u001b[1;36m  Cell \u001b[1;32mIn[83], line 2\u001b[1;36m\u001b[0m\n\u001b[1;33m    1value=5\u001b[0m\n\u001b[1;37m    ^\u001b[0m\n\u001b[1;31mSyntaxError\u001b[0m\u001b[1;31m:\u001b[0m invalid decimal literal\n"
     ]
    }
   ],
   "source": [
    "# 2nd rule: Variable should not start with numeric. Ex. 1value=5.\n",
    "1value=5\n",
    "print (1value)\n",
    "\n",
    "# But you can name the variable as below, where number is next to the alphabet as below.\n",
    "\n",
    "value1=5"
   ]
  },
  {
   "cell_type": "code",
   "execution_count": 85,
   "id": "8ecefb57-5574-4f63-a718-4f0bdbe1e906",
   "metadata": {},
   "outputs": [
    {
     "name": "stdout",
     "output_type": "stream",
     "text": [
      "5\n"
     ]
    }
   ],
   "source": [
    "value1=5\n",
    "print (value1)"
   ]
  },
  {
   "cell_type": "code",
   "execution_count": 87,
   "id": "b368ed7d-7170-4683-9292-7f7f0c0a824d",
   "metadata": {},
   "outputs": [
    {
     "name": "stdout",
     "output_type": "stream",
     "text": [
      "98\n"
     ]
    }
   ],
   "source": [
    "# 3rd rule: Varibale must/can be alphanumeric as below:\n",
    "\n",
    "num123=98\n",
    "print(num123)"
   ]
  },
  {
   "cell_type": "code",
   "execution_count": 89,
   "id": "a977a7bb-2586-4e01-9bd0-187490209e74",
   "metadata": {},
   "outputs": [
    {
     "name": "stdout",
     "output_type": "stream",
     "text": [
      "50\n"
     ]
    }
   ],
   "source": [
    "#  4th Rule: It is case sensitive:\n",
    "\n",
    "a=50\n",
    "A=50\n",
    "print(a)\n",
    "\n",
    "# in the above example it will consider only lowercase variable."
   ]
  },
  {
   "cell_type": "code",
   "execution_count": 91,
   "id": "2101703b-1803-4b03-8afa-ede7a6571077",
   "metadata": {},
   "outputs": [
    {
     "ename": "TypeError",
     "evalue": "'int' object is not callable",
     "output_type": "error",
     "traceback": [
      "\u001b[1;31m---------------------------------------------------------------------------\u001b[0m",
      "\u001b[1;31mTypeError\u001b[0m                                 Traceback (most recent call last)",
      "Cell \u001b[1;32mIn[91], line 6\u001b[0m\n\u001b[0;32m      4\u001b[0m Print\u001b[38;5;241m=\u001b[39m\u001b[38;5;241m99\u001b[39m\n\u001b[0;32m      5\u001b[0m \u001b[38;5;28mprint\u001b[39m\u001b[38;5;241m=\u001b[39m\u001b[38;5;241m99\u001b[39m\n\u001b[1;32m----> 6\u001b[0m \u001b[38;5;28mprint\u001b[39m(\u001b[38;5;28mprint\u001b[39m)\n",
      "\u001b[1;31mTypeError\u001b[0m: 'int' object is not callable"
     ]
    }
   ],
   "source": [
    "# 5th Rule: There are few key words as below which has special functions attached to perform task. So those key words must not be used as naming varibale.\n",
    "#Example as below:\n",
    "\n",
    "Print=99\n",
    "print=99\n",
    "print(print) \n",
    "\n",
    "# we get below error because... these words are used to perform some executions. Ex: print, if, for, while, in etc..."
   ]
  },
  {
   "cell_type": "code",
   "execution_count": 3,
   "id": "a8056d26-b31e-40f7-972e-e0c728023425",
   "metadata": {},
   "outputs": [
    {
     "name": "stdin",
     "output_type": "stream",
     "text": [
      "Enter your name Divya\n",
      "Enter your age 18\n",
      "Enter your height 5.11\n"
     ]
    },
    {
     "name": "stdout",
     "output_type": "stream",
     "text": [
      "Divya\n"
     ]
    }
   ],
   "source": [
    "# input function:-\n",
    "\n",
    "name=str(input(\"Enter your name\"))\n",
    "age=int(input(\"Enter your age\"))\n",
    "height=float(input(\"Enter your height\"))\n",
    "\n",
    "print(name)"
   ]
  },
  {
   "cell_type": "code",
   "execution_count": 101,
   "id": "b6756fc9-5cdc-4522-a0b9-47d86e4907be",
   "metadata": {},
   "outputs": [
    {
     "ename": "TypeError",
     "evalue": "'int' object is not callable",
     "output_type": "error",
     "traceback": [
      "\u001b[1;31m---------------------------------------------------------------------------\u001b[0m",
      "\u001b[1;31mTypeError\u001b[0m                                 Traceback (most recent call last)",
      "Cell \u001b[1;32mIn[101], line 1\u001b[0m\n\u001b[1;32m----> 1\u001b[0m \u001b[38;5;28mprint\u001b[39m(name)\n",
      "\u001b[1;31mTypeError\u001b[0m: 'int' object is not callable"
     ]
    }
   ],
   "source": [
    "print(name)"
   ]
  },
  {
   "cell_type": "code",
   "execution_count": 13,
   "id": "762d2105-747f-4cfe-bfb4-47962bee8a47",
   "metadata": {},
   "outputs": [
    {
     "name": "stdout",
     "output_type": "stream",
     "text": [
      "Divya\n",
      "18\n",
      "5.11\n"
     ]
    },
    {
     "data": {
      "text/plain": [
       "float"
      ]
     },
     "execution_count": 13,
     "metadata": {},
     "output_type": "execute_result"
    }
   ],
   "source": [
    "print(name)\n",
    "print(age)\n",
    "print(height)\n",
    "type(name)\n",
    "type(height)"
   ]
  },
  {
   "cell_type": "code",
   "execution_count": 15,
   "id": "e3b6dae4-6426-46f0-beeb-06e612eed073",
   "metadata": {},
   "outputs": [
    {
     "name": "stdout",
     "output_type": "stream",
     "text": [
      "28\n"
     ]
    }
   ],
   "source": [
    "age=age+10\n",
    "print(age)"
   ]
  },
  {
   "cell_type": "code",
   "execution_count": 17,
   "id": "f3805bc0-0901-46f7-9630-e5a8f81b59b5",
   "metadata": {},
   "outputs": [
    {
     "name": "stdout",
     "output_type": "stream",
     "text": [
      "Divya 28 5.11\n"
     ]
    }
   ],
   "source": [
    "print(name, age, height)"
   ]
  },
  {
   "cell_type": "code",
   "execution_count": 19,
   "id": "e5c604a0-2eab-4ff1-8eb7-fd26d9724482",
   "metadata": {},
   "outputs": [
    {
     "name": "stdout",
     "output_type": "stream",
     "text": [
      "your name is: Divya\n",
      "your age is: 28\n",
      "your height is: 5.11\n"
     ]
    }
   ],
   "source": [
    "#when a variable has a information already then below is the menthod to run to have below output:\n",
    "\n",
    "print(\"your name is:\",name)\n",
    "print(\"your age is:\",age)\n",
    "print(\"your height is:\",height)"
   ]
  },
  {
   "cell_type": "code",
   "execution_count": 29,
   "id": "40d3f5f1-7f88-4ef0-90d0-2423655c2515",
   "metadata": {},
   "outputs": [
    {
     "name": "stdout",
     "output_type": "stream",
     "text": [
      "your name is Divya, your age is 28, height is 5.11\n"
     ]
    }
   ],
   "source": [
    "# Another method to retrive output in a single line using [ 'f' statement ] is a below:-\n",
    "\n",
    "print(f\"your name is {name}, your age is {age}, height is {height}\")"
   ]
  },
  {
   "cell_type": "code",
   "execution_count": 27,
   "id": "3e091577-eb04-4ce7-a5af-3b92fe0d213f",
   "metadata": {},
   "outputs": [
    {
     "name": "stdout",
     "output_type": "stream",
     "text": [
      "your name is Divya, your age is 28, height is 5.11\n"
     ]
    }
   ],
   "source": [
    "print(f\"your name is {name}, your age is {age}, height is {height}\")"
   ]
  }
 ],
 "metadata": {
  "kernelspec": {
   "display_name": "Python 3 (ipykernel)",
   "language": "python",
   "name": "python3"
  },
  "language_info": {
   "codemirror_mode": {
    "name": "ipython",
    "version": 3
   },
   "file_extension": ".py",
   "mimetype": "text/x-python",
   "name": "python",
   "nbconvert_exporter": "python",
   "pygments_lexer": "ipython3",
   "version": "3.12.4"
  }
 },
 "nbformat": 4,
 "nbformat_minor": 5
}

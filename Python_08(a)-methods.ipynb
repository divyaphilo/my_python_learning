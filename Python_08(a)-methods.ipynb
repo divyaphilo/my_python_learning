{
 "cells": [
  {
   "cell_type": "code",
   "execution_count": 3,
   "id": "dc4d556f-95e0-42a6-9ca5-2b5f0a4aecf7",
   "metadata": {},
   "outputs": [
    {
     "name": "stdout",
     "output_type": "stream",
     "text": [
      "Hey melanie Apple Brinjal\n",
      "20 is my age\n"
     ]
    }
   ],
   "source": [
    "#Methods in python are: append, insert, remove, sort and so on. . . \n",
    "\n",
    "# a. Capitalize. Whenever we use any menthods its syntax must end with (). Ex. Font(), Sort(), Alter() etc.\n",
    "a=\"hey melanie\"\n",
    "b=\"Apple\"\n",
    "c=\"Brinjal\"\n",
    "print(a.capitalize(),b.capitalize(),c.capitalize())\n",
    "\n",
    "# When CAPITALIZED Method is applied on integer type value:-\n",
    "age=\"20 is my age\"\n",
    "print(age.capitalize())\n",
    "\n",
    "# above example shows that capitalize method cannot be applied on numeric values.\n"
   ]
  },
  {
   "cell_type": "code",
   "execution_count": 17,
   "id": "58ec07b5-a537-4a00-8fa1-b2a2dcede3db",
   "metadata": {},
   "outputs": [
    {
     "name": "stdout",
     "output_type": "stream",
     "text": [
      "1\n",
      "4\n",
      "0\n"
     ]
    }
   ],
   "source": [
    "# b. Count Method. \n",
    "\n",
    "a=\"Hello world aaaa bbbbbb cccc dd hh gg\"\n",
    "print(a.count(\"Hello\"))\n",
    "print(a.count(\"a\"))\n",
    "print(a.count(\"a\",0, 10))"
   ]
  },
  {
   "cell_type": "code",
   "execution_count": 19,
   "id": "57989ee6-7754-4a5d-97aa-cdce96443a7c",
   "metadata": {},
   "outputs": [
    {
     "name": "stdout",
     "output_type": "stream",
     "text": [
      "0\n"
     ]
    }
   ],
   "source": [
    "print(a.count(\"a\",0, 10))"
   ]
  }
 ],
 "metadata": {
  "kernelspec": {
   "display_name": "Python 3 (ipykernel)",
   "language": "python",
   "name": "python3"
  },
  "language_info": {
   "codemirror_mode": {
    "name": "ipython",
    "version": 3
   },
   "file_extension": ".py",
   "mimetype": "text/x-python",
   "name": "python",
   "nbconvert_exporter": "python",
   "pygments_lexer": "ipython3",
   "version": "3.12.4"
  }
 },
 "nbformat": 4,
 "nbformat_minor": 5
}

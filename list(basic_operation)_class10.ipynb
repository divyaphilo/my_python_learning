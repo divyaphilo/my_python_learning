{
 "cells": [
  {
   "cell_type": "code",
   "execution_count": 1,
   "id": "5435ecbe-de39-4a0f-a686-1085abd48892",
   "metadata": {},
   "outputs": [
    {
     "name": "stdout",
     "output_type": "stream",
     "text": [
      "5\n",
      "7\n",
      "12\n"
     ]
    }
   ],
   "source": [
    "# basic operation - (len) length\n",
    "\n",
    "l1=[1,2,3,4,\"study\"]\n",
    "print (len(l1))\n",
    "l2=[5,6,7,8,9,10,[\"learn\"]]\n",
    "print(len(l2))\n",
    "l3=[11,12,13,14,15,2,6,17,18,19,20,[\"fast\",2]]\n",
    "print(len(l3))\n",
    "l4=[14,15,2,6,17,18,19,20,\"time\"]\n"
   ]
  },
  {
   "cell_type": "code",
   "execution_count": 2,
   "id": "b3fa8e78-85ec-4b5f-8bac-c0517300b9bb",
   "metadata": {},
   "outputs": [
    {
     "name": "stdout",
     "output_type": "stream",
     "text": [
      "[1, 2, 3, 4, 5, 6, 7, 8, 9, 10, 11, 12, 14]\n"
     ]
    }
   ],
   "source": [
    "# basic operation - (concatenation)\n",
    "\n",
    "l1=[1,2,3,4,5,6,7,8]\n",
    "l2=[9,10,11,12,14]\n",
    "print(l1+l2)\n"
   ]
  },
  {
   "cell_type": "code",
   "execution_count": 3,
   "id": "a5d984aa-6f7f-4e7f-bba1-39bcb94bbcdf",
   "metadata": {},
   "outputs": [
    {
     "name": "stdout",
     "output_type": "stream",
     "text": [
      "[1, 2, 3, 4, 5, 6, 7, 8, 1, 2, 3, 4, 5, 6, 7, 8, 1, 2, 3, 4, 5, 6, 7, 8]\n"
     ]
    }
   ],
   "source": [
    "# basic operation - (repetation)\n",
    "\n",
    "l1=[1,2,3,4,5,6,7,8]\n",
    "print(l1*3)\n"
   ]
  },
  {
   "cell_type": "code",
   "execution_count": 25,
   "id": "bf0ad101-0a5b-4336-84cf-2e3b05ea35a3",
   "metadata": {},
   "outputs": [
    {
     "data": {
      "text/plain": [
       "True"
      ]
     },
     "execution_count": 25,
     "metadata": {},
     "output_type": "execute_result"
    }
   ],
   "source": [
    "# membership operator. - Finding an elements in the list.\n",
    "\n",
    "l1=[1,2,3,4,5,6,7,8]\n",
    "6 in l1\n",
    "\n",
    "\n"
   ]
  },
  {
   "cell_type": "code",
   "execution_count": 27,
   "id": "f969c933-5742-4927-860c-5c85bad4c373",
   "metadata": {},
   "outputs": [
    {
     "data": {
      "text/plain": [
       "False"
      ]
     },
     "execution_count": 27,
     "metadata": {},
     "output_type": "execute_result"
    }
   ],
   "source": [
    "l2= [1,2,3,4,5,6,7,8]\n",
    "9 in l2\n"
   ]
  },
  {
   "cell_type": "code",
   "execution_count": null,
   "id": "c1dfbcc9-a14d-4310-a75e-4869bf9de54e",
   "metadata": {},
   "outputs": [],
   "source": [
    "# built in methods: press tab key after typing variable dot(.) as below to find dropdown list of functions.\n",
    "\n",
    "l1=[]\n",
    "l1.\n"
   ]
  },
  {
   "cell_type": "code",
   "execution_count": 53,
   "id": "83b39763-6cb6-43e1-b8c3-ab4334fa7090",
   "metadata": {},
   "outputs": [
    {
     "name": "stdout",
     "output_type": "stream",
     "text": [
      "['white', 'orange', 'blue', 'green']\n",
      "['white', 'orange', 'blue', 'y', 'e', 'l', 'l', 'o', 'w']\n"
     ]
    },
    {
     "ename": "TypeError",
     "evalue": "'int' object is not iterable",
     "output_type": "error",
     "traceback": [
      "\u001b[1;31m---------------------------------------------------------------------------\u001b[0m",
      "\u001b[1;31mTypeError\u001b[0m                                 Traceback (most recent call last)",
      "Cell \u001b[1;32mIn[53], line 12\u001b[0m\n\u001b[0;32m      9\u001b[0m \u001b[38;5;28mprint\u001b[39m(l3)\n\u001b[0;32m     11\u001b[0m a3\u001b[38;5;241m=\u001b[39m[\u001b[38;5;124m\"\u001b[39m\u001b[38;5;124mwhite\u001b[39m\u001b[38;5;124m\"\u001b[39m,\u001b[38;5;124m\"\u001b[39m\u001b[38;5;124morange\u001b[39m\u001b[38;5;124m\"\u001b[39m,\u001b[38;5;124m\"\u001b[39m\u001b[38;5;124mblue\u001b[39m\u001b[38;5;124m\"\u001b[39m]\n\u001b[1;32m---> 12\u001b[0m a3\u001b[38;5;241m.\u001b[39mextend(\u001b[38;5;241m87\u001b[39m)\n\u001b[0;32m     13\u001b[0m \u001b[38;5;28mprint\u001b[39m(a3)\n",
      "\u001b[1;31mTypeError\u001b[0m: 'int' object is not iterable"
     ]
    }
   ],
   "source": [
    "# append (), extend () - str value\n",
    "\n",
    "l2=[\"white\",\"orange\",\"blue\"]\n",
    "l2.append(\"green\")\n",
    "print(l2)\n",
    "\n",
    "l3=[\"white\",\"orange\",\"blue\"]\n",
    "l3.extend(\"yellow\")\n",
    "print(l3)\n",
    "\n",
    "# extend () - int value\n",
    "\n",
    "a3=[\"white\",\"orange\",\"blue\"]\n",
    "a3.extend(87)\n",
    "print(a3)\n",
    "\n",
    "# TypeError: 'int' object is not iterable. Because numeric value cannot be looped.\n"
   ]
  },
  {
   "cell_type": "code",
   "execution_count": 99,
   "id": "ec1a262a-f5a0-4028-8530-94bfc6b76cbf",
   "metadata": {},
   "outputs": [
    {
     "name": "stdout",
     "output_type": "stream",
     "text": [
      "['apple', 'mango', 'banana', ['grapes', 'orange']]\n",
      "['apple', 'mango', 'banana', 'grapes', 'orange']\n",
      "[1, 2, [3, 4]]\n",
      "[1, 2, 3, 4]\n"
     ]
    }
   ],
   "source": [
    "# append (), extend () - list_str\n",
    "\n",
    "c1=[\"apple\", \"mango\", \"banana\"]\n",
    "c2=[\"grapes\", \"orange\"]\n",
    "c1.append(c2)\n",
    "print(c1)\n",
    "\n",
    "c1=[\"apple\", \"mango\", \"banana\"]\n",
    "c2=[\"grapes\", \"orange\"]\n",
    "c1.extend(c2)\n",
    "print(c1)\n",
    "\n",
    "\n",
    "# append (), extend () - list_int\n",
    "\n",
    "b1=[1,2]\n",
    "b1.append([3,4])\n",
    "print(b1)\n",
    "\n",
    "b2=[1,2]\n",
    "b2.extend([3,4])\n",
    "print (b2)\n"
   ]
  },
  {
   "cell_type": "code",
   "execution_count": null,
   "id": "7df849b2-95f2-4f4f-80c6-56271ffdcebc",
   "metadata": {},
   "outputs": [],
   "source": []
  },
  {
   "cell_type": "code",
   "execution_count": null,
   "id": "9725e715-8c6e-4db9-bcd8-ee36949ed796",
   "metadata": {},
   "outputs": [],
   "source": []
  }
 ],
 "metadata": {
  "kernelspec": {
   "display_name": "Python 3 (ipykernel)",
   "language": "python",
   "name": "python3"
  },
  "language_info": {
   "codemirror_mode": {
    "name": "ipython",
    "version": 3
   },
   "file_extension": ".py",
   "mimetype": "text/x-python",
   "name": "python",
   "nbconvert_exporter": "python",
   "pygments_lexer": "ipython3",
   "version": "3.12.4"
  }
 },
 "nbformat": 4,
 "nbformat_minor": 5
}

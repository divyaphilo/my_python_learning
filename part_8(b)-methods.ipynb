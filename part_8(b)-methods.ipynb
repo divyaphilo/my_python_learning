{
 "cells": [
  {
   "cell_type": "code",
   "execution_count": 1,
   "id": "bef88402-0ad9-43dc-9aaf-ab02d766a595",
   "metadata": {},
   "outputs": [
    {
     "name": "stdout",
     "output_type": "stream",
     "text": [
      "False\n",
      "False\n",
      "True\n"
     ]
    }
   ],
   "source": [
    "# islower() and lower()\n",
    "\n",
    "c=\"pYthoN for Toddlers\"\n",
    "d=\"PYTHON FOR TODDLERS\"\n",
    "e=\"python for toddlers\"\n",
    "print(c.islower())\n",
    "print(d.islower())\n",
    "print(e.islower())\n",
    "\n",
    "#Above excercise shows that python will run each code and return the output. so as we have used \"islower()\" menthod it retured false for first two statements as it was mix of caps&lower case. Hence it returned true for last statement becuase it was completeky on lowercase.\n"
   ]
  },
  {
   "cell_type": "code",
   "execution_count": 2,
   "id": "9bbbf6df-ba62-40d5-b571-33325b98775c",
   "metadata": {},
   "outputs": [
    {
     "name": "stdout",
     "output_type": "stream",
     "text": [
      "python for toddlers\n",
      "python for toddlers\n",
      "python for toddlers\n"
     ]
    }
   ],
   "source": [
    "#lower(method)\n",
    "\n",
    "c=\"pYthoN for Toddlers\"\n",
    "d=\"PYTHON FOR TODDLERS\"\n",
    "e=\"python for toddlers\"\n",
    "print(c.lower())\n",
    "print(d.lower())\n",
    "print(e.lower())\n",
    "\n"
   ]
  },
  {
   "cell_type": "code",
   "execution_count": 3,
   "id": "1efc6979-b746-4196-b2fc-8d795fb095a4",
   "metadata": {},
   "outputs": [
    {
     "name": "stdout",
     "output_type": "stream",
     "text": [
      "False\n",
      "True\n",
      "False\n"
     ]
    }
   ],
   "source": [
    "# is upper() and upper()\n",
    "\n",
    "c=\"pYthoN for Toddlers\"\n",
    "d=\"PYTHON FOR TODDLERS\"\n",
    "e=\"python for toddlers\"\n",
    "print(c.isupper())\n",
    "print(d.isupper())\n",
    "print(e.isupper())"
   ]
  },
  {
   "cell_type": "code",
   "execution_count": 4,
   "id": "c3d5a732-34c2-4008-9200-b5982ee834a2",
   "metadata": {},
   "outputs": [
    {
     "name": "stdout",
     "output_type": "stream",
     "text": [
      "PYTHON FOR TODDLERS\n",
      "PYTHON FOR TODDLERS\n",
      "PYTHON FOR TODDLERS\n"
     ]
    }
   ],
   "source": [
    "# upper () (method)\n",
    "\n",
    "c=\"pYthoN for Toddlers\"\n",
    "d=\"PYTHON FOR TODDLERS\"\n",
    "e=\"python for toddlers\"\n",
    "print(c.upper())\n",
    "print(d.upper())\n",
    "print(e.upper())"
   ]
  },
  {
   "cell_type": "code",
   "execution_count": 5,
   "id": "a9433de9-4a3d-4621-b19a-d0ba7a3ec287",
   "metadata": {},
   "outputs": [
    {
     "name": "stdout",
     "output_type": "stream",
     "text": [
      "PYTHON for TODDLERS\n"
     ]
    }
   ],
   "source": [
    "# swapcase()(method) - this methods will convert from lowercase to uppercase and from uppercase to lowercase.\n",
    "\n",
    "f=\"python FOR toddlers\"\n",
    "print(f.swapcase())"
   ]
  },
  {
   "cell_type": "code",
   "execution_count": 6,
   "id": "1f653ec2-6477-4b5d-8400-1c32d927704d",
   "metadata": {},
   "outputs": [
    {
     "name": "stdout",
     "output_type": "stream",
     "text": [
      "False\n"
     ]
    }
   ],
   "source": [
    "# istitle() and tittle() -\n",
    "\n",
    "g=\"welcome to youtube\"\n",
    "print(g.istitle())"
   ]
  },
  {
   "cell_type": "code",
   "execution_count": 7,
   "id": "35dc2698-6a56-43d4-a282-7055dd689d5f",
   "metadata": {},
   "outputs": [
    {
     "name": "stdout",
     "output_type": "stream",
     "text": [
      "True\n",
      "False\n",
      "True\n"
     ]
    }
   ],
   "source": [
    "# startswith()\n",
    "\n",
    "h=\"welcome home\"\n",
    "print(h.startswith(\"welcome\"))\n",
    "print(h.startswith(\"h\"))\n",
    "print(h.startswith(\"w\"))"
   ]
  },
  {
   "cell_type": "code",
   "execution_count": 8,
   "id": "7ce5e604-13d1-4647-9353-d22aba493261",
   "metadata": {},
   "outputs": [
    {
     "name": "stdout",
     "output_type": "stream",
     "text": [
      "True\n",
      "False\n",
      "True\n"
     ]
    }
   ],
   "source": [
    "# endswith()\n",
    "\n",
    "h=\"welcome home\"\n",
    "print(h.endswith(\"home\"))\n",
    "print(h.endswith(\"h\"))\n",
    "print(h.endswith(\"e\"))"
   ]
  },
  {
   "cell_type": "code",
   "execution_count": 9,
   "id": "d22cb8af-cd1b-4f67-a4a9-fe9513680196",
   "metadata": {},
   "outputs": [
    {
     "name": "stdout",
     "output_type": "stream",
     "text": [
      "False\n"
     ]
    }
   ],
   "source": [
    "i = \"abc123\"\n",
    "print(i.isnumeric())\n"
   ]
  },
  {
   "cell_type": "code",
   "execution_count": 10,
   "id": "ed7fc017-9f4f-43e5-9d6f-c9d02902fcbb",
   "metadata": {},
   "outputs": [
    {
     "name": "stdout",
     "output_type": "stream",
     "text": [
      "True\n",
      "False\n"
     ]
    }
   ],
   "source": [
    "# isalpha\n",
    "\n",
    "j=\"hello\"\n",
    "k=\"a12mlldd\"\n",
    "print(j.isalpha())\n",
    "print(k.isalpha())\n"
   ]
  },
  {
   "cell_type": "code",
   "execution_count": 11,
   "id": "87f4e163-b0d2-4da1-9f1e-b4c299537e5d",
   "metadata": {},
   "outputs": [
    {
     "name": "stdout",
     "output_type": "stream",
     "text": [
      "True\n",
      "True\n",
      "True\n",
      "True\n"
     ]
    }
   ],
   "source": [
    "# isalnum\n",
    "\n",
    "l=\"1234l\"\n",
    "m=\"sjdh1\"\n",
    "n=\"123\"\n",
    "o=\"sjdjfj\"\n",
    "print (l.isalnum())\n",
    "print(m.isalnum())\n",
    "print(n.isalnum())\n",
    "print(o.isalnum())\n"
   ]
  },
  {
   "cell_type": "code",
   "execution_count": 12,
   "id": "b850dae8-855e-4aa4-bc2b-cb84534fdf1e",
   "metadata": {},
   "outputs": [
    {
     "name": "stdout",
     "output_type": "stream",
     "text": [
      "8\n",
      "12\n",
      "5\n"
     ]
    }
   ],
   "source": [
    "# find()\n",
    "\n",
    "txt=\"jupyter notebook\"\n",
    "print(txt.find(\"note\"))\n",
    "print(txt.find(\"book\"))\n",
    "print(txt.find(\"er\"))"
   ]
  },
  {
   "cell_type": "code",
   "execution_count": 13,
   "id": "2a751d46-4813-40c0-9567-136383be9f7f",
   "metadata": {},
   "outputs": [],
   "source": [
    "# index() - Index is very similar to above find()."
   ]
  },
  {
   "cell_type": "code",
   "execution_count": 26,
   "id": "5ca4abcf-6038-4439-ada1-ee28814001fe",
   "metadata": {},
   "outputs": [
    {
     "name": "stdout",
     "output_type": "stream",
     "text": [
      "I Love boxy\n",
      "we love dogs, we love animals, and, i like flowers\n"
     ]
    }
   ],
   "source": [
    "# replace()\n",
    "\n",
    "q=\"I like boxy\"\n",
    "print(q.replace(\"like\",\"Love\"))\n",
    "\n",
    "b=\"i love dogs, i love animals, and, i like flowers\"\n",
    "print(b.replace(\"i\",\"we\",2))\n",
    "                 "
   ]
  },
  {
   "cell_type": "code",
   "execution_count": 37,
   "id": "25e51085-a6c2-4465-a0ca-c4421ae0d47b",
   "metadata": {},
   "outputs": [
    {
     "name": "stdout",
     "output_type": "stream",
     "text": [
      "python\n",
      "python@#$^&\n",
      "@#$%python\n"
     ]
    }
   ],
   "source": [
    "#strip() - this is used to remove special chracrters attached with string and return only with plain STRING. ex. below:\n",
    "\n",
    "word=\"@#$%python@#$^&\"\n",
    "print(word.strip(\"@#$%^&\"))\n",
    "print(word.lstrip(\"@#$%\"))\n",
    "print(word.rstrip(\"@#$^&\"))\n"
   ]
  },
  {
   "cell_type": "code",
   "execution_count": 45,
   "id": "3b2bbe36-10b7-47b8-b1b5-d64d22b62402",
   "metadata": {},
   "outputs": [
    {
     "name": "stdout",
     "output_type": "stream",
     "text": [
      "world_beauty###\n",
      "$$$$laptop\n",
      "$$laptop$$\n"
     ]
    }
   ],
   "source": [
    "# ljust(), rjust(), center() - this helps to add special charecters/symbols with the string.\n",
    "\n",
    "word=\"world_beauty\"\n",
    "print(word.ljust(15,\"#\"))\n",
    "\n",
    "type=\"laptop\"\n",
    "print(type.rjust(10, \"$\"))\n",
    "\n",
    "\n",
    "type=\"laptop\"\n",
    "print(type.center(10, \"$\"))\n"
   ]
  }
 ],
 "metadata": {
  "kernelspec": {
   "display_name": "Python 3 (ipykernel)",
   "language": "python",
   "name": "python3"
  },
  "language_info": {
   "codemirror_mode": {
    "name": "ipython",
    "version": 3
   },
   "file_extension": ".py",
   "mimetype": "text/x-python",
   "name": "python",
   "nbconvert_exporter": "python",
   "pygments_lexer": "ipython3",
   "version": "3.12.4"
  }
 },
 "nbformat": 4,
 "nbformat_minor": 5
}

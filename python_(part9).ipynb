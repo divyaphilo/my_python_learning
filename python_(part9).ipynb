{
 "cells": [
  {
   "cell_type": "markdown",
   "id": "82ad419a-92e4-46ce-97e0-35f430907ddc",
   "metadata": {},
   "source": [
    "1. what is list?\n",
    "   List is a datatype where you can store multiple variable's values into one single variable. List denotes anything we write inside []. is called list.         As like we call string that is under single/double quotes inside of (\"\"/''). List is nothing but collection of elements.\n",
    "\n",
    "   Datatype has two types that is 1. Mutable and 2. Immutable.\n",
    "   Immutable datatypes are int, float, complex, string.\n",
    "   Mutable datatypes are List. -  the reason list are called mutable is because it can be modified further. example below:\n",
    "   "
   ]
  },
  {
   "cell_type": "code",
   "execution_count": 2,
   "id": "4dba62a9-2989-410d-a656-a375413c014f",
   "metadata": {},
   "outputs": [],
   "source": [
    "name=\"appleberry\"\n",
    "age=24\n",
    "height=5.5\n",
    "details=[\"appleberry\", 24, 5.5]\n"
   ]
  },
  {
   "cell_type": "code",
   "execution_count": 3,
   "id": "0e240821-69b6-4589-bdb0-d04d457b2def",
   "metadata": {},
   "outputs": [
    {
     "name": "stdout",
     "output_type": "stream",
     "text": [
      "appleberry\n",
      "24\n",
      "5.5\n"
     ]
    }
   ],
   "source": [
    "#2. list indexing?\n",
    "detail=[\"appleberry\", 24, 5.5]\n",
    "print(detail[0])\n",
    "print(detail[1])\n",
    "print(detail[2])"
   ]
  },
  {
   "cell_type": "code",
   "execution_count": 4,
   "id": "1e356670-d989-4250-ae05-96365b5f5ce8",
   "metadata": {},
   "outputs": [
    {
     "name": "stdout",
     "output_type": "stream",
     "text": [
      "10\n",
      "20\n",
      "30\n",
      "40\n",
      "50\n",
      "60\n"
     ]
    }
   ],
   "source": [
    "# 3. indexing access?\n",
    "num=[10, 20, 30,[40,50],60]\n",
    "print(num[0])\n",
    "print(num[1])\n",
    "print(num[2])\n",
    "print(num[3][0])\n",
    "print(num[3][1])\n",
    "print(num[4])"
   ]
  },
  {
   "cell_type": "code",
   "execution_count": 5,
   "id": "ef1cfd34-774b-4a38-9e8b-6d5c505a4805",
   "metadata": {},
   "outputs": [
    {
     "data": {
      "text/plain": [
       "['chris', 'melanie', 'rick']"
      ]
     },
     "execution_count": 5,
     "metadata": {},
     "output_type": "execute_result"
    }
   ],
   "source": [
    "# 4. indexing modify?\n",
    "\n",
    "names=[\"chris\", \"ryan\", \"rick\"]\n",
    "names[1]=\"melanie\"\n",
    "names\n"
   ]
  },
  {
   "cell_type": "code",
   "execution_count": 6,
   "id": "f377f66b-b95a-45c5-b261-9dc16a1fb6c6",
   "metadata": {},
   "outputs": [
    {
     "data": {
      "text/plain": [
       "['chris', 'ryan']"
      ]
     },
     "execution_count": 6,
     "metadata": {},
     "output_type": "execute_result"
    }
   ],
   "source": [
    "# indexing deletion?\n",
    "\n",
    "names=[\"chris\", \"ryan\", \"rick\"]\n",
    "del names[2]\n",
    "names\n"
   ]
  },
  {
   "cell_type": "code",
   "execution_count": 7,
   "id": "271ed3da-250a-4eb5-bf6a-5eb420c0ee3b",
   "metadata": {},
   "outputs": [
    {
     "name": "stdout",
     "output_type": "stream",
     "text": [
      "[100, 30, 60]\n"
     ]
    }
   ],
   "source": [
    "# List slicing?\n",
    "\n",
    "num=[100,30,60,50, 40,70]\n",
    "num[0:3]\n",
    "print(num[0:3])"
   ]
  },
  {
   "cell_type": "code",
   "execution_count": 8,
   "id": "82a236a4-f32f-4fa0-a700-fb23a3a2e50c",
   "metadata": {},
   "outputs": [
    {
     "data": {
      "text/plain": [
       "[100, 30, 60, 50, 40, 70]"
      ]
     },
     "execution_count": 8,
     "metadata": {},
     "output_type": "execute_result"
    }
   ],
   "source": [
    "num[:5] # this is like from first to last\n",
    "num"
   ]
  },
  {
   "cell_type": "code",
   "execution_count": 9,
   "id": "951622b2-a6a1-471b-8984-3da0527c1b61",
   "metadata": {},
   "outputs": [
    {
     "name": "stdout",
     "output_type": "stream",
     "text": [
      "[100, 30]\n"
     ]
    }
   ],
   "source": [
    "num[2:]\n",
    "print(num[:2])\n"
   ]
  },
  {
   "cell_type": "code",
   "execution_count": 10,
   "id": "cc55e54e-1356-4408-abe2-6d066d6b69c1",
   "metadata": {},
   "outputs": [
    {
     "name": "stdout",
     "output_type": "stream",
     "text": [
      "['milk', 'butter', 'bread', 'jam', 'cheese']\n",
      "[20, 40, 60, 50, 20]\n",
      "['red', 'pink', 'yellow', 'violet', 'green']\n"
     ]
    }
   ],
   "source": [
    "# slice method? i have created 3 different variables below. Now i want first 3 elements from below 3 vaiables. lets see how to retrive it. so we will count +1 elements to get one element lesser in the output.\n",
    "\n",
    "food=[\"milk\", \"butter\", \"bread\", \"jam\", \"cheese\"]\n",
    "age=[20, 40, 60,50, 20, 80, 90]\n",
    "colours=[\"red\", \"pink\", \"yellow\", \"violet\", \"green\", \"blue\"]\n",
    "print(food[0:5])\n",
    "print(age[0:5])\n",
    "print(colours[0:5])\n",
    "\n",
    "# above is indexing method to retrive elements."
   ]
  },
  {
   "cell_type": "code",
   "execution_count": 11,
   "id": "9d0883ce-5ba6-4ec2-ad18-dcfc7c5c7a84",
   "metadata": {},
   "outputs": [
    {
     "name": "stdout",
     "output_type": "stream",
     "text": [
      "['milk', 'butter', 'bread', 'jam']\n",
      "[20, 40, 60, 50]\n",
      "['red', 'pink', 'yellow', 'violet']\n"
     ]
    }
   ],
   "source": [
    "s=slice(0,4)\n",
    "print(food[s])\n",
    "print(age[s])\n",
    "print(colours[s])\n",
    "\n",
    "# above is slicing method."
   ]
  },
  {
   "cell_type": "code",
   "execution_count": 12,
   "id": "e2f7ce38-c3ff-4685-a4c5-902c9a4a2869",
   "metadata": {},
   "outputs": [
    {
     "name": "stdout",
     "output_type": "stream",
     "text": [
      "[90, 80, 20, 50, 60, 40, 20]\n",
      "[80, 20, 50, 60, 40, 20]\n"
     ]
    }
   ],
   "source": [
    "# reversing method.this method organises elemets from last to first.\n",
    "\n",
    "age=[20, 40, 60,50, 20, 80, 90]\n",
    "print(age[::-1])\n",
    "print(age[-2::-1])\n"
   ]
  },
  {
   "cell_type": "code",
   "execution_count": 13,
   "id": "04cc020a-66d6-4d59-8565-9b2ae2c4726d",
   "metadata": {},
   "outputs": [
    {
     "data": {
      "text/plain": [
       "[1, 2, 3, 4, 20, 80, 90]"
      ]
     },
     "execution_count": 13,
     "metadata": {},
     "output_type": "execute_result"
    }
   ],
   "source": [
    "# slicing-modify?\n",
    "\n",
    "age=[20, 40, 60,50, 20, 80, 90]\n",
    "age [0:4]=[1,2,3,4]\n",
    "age"
   ]
  },
  {
   "cell_type": "code",
   "execution_count": 58,
   "id": "6b44b564-d188-400e-ba59-15455d728233",
   "metadata": {},
   "outputs": [
    {
     "name": "stdout",
     "output_type": "stream",
     "text": [
      "[100, 30, 60, 50, 40, 70]\n"
     ]
    }
   ],
   "source": [
    "# slicing deletion?\n",
    "\n",
    "age=[20, 40, 60,50, 20, 80, 90]\n",
    "del age[0:3]\n",
    "print(num)\n",
    "\n"
   ]
  },
  {
   "cell_type": "code",
   "execution_count": 60,
   "id": "0fc9828c-f576-4619-a9ab-799b06ad4061",
   "metadata": {},
   "outputs": [
    {
     "data": {
      "text/plain": [
       "[1, 120, 1, 140, 1, 160, 1, 180, 1]"
      ]
     },
     "execution_count": 60,
     "metadata": {},
     "output_type": "execute_result"
    }
   ],
   "source": [
    "# below is the example of step value where we have mentionde : after 2 which means i will count from 1to 2 and it jumps to next two values where it replaces below mentioned 1's in each two values below.\n",
    "\n",
    "num=[110,120,130,140,150,160,170,180,199]\n",
    "num[::2]=[1,1,1,1,1]\n",
    "num"
   ]
  },
  {
   "cell_type": "code",
   "execution_count": 66,
   "id": "c48a7210-71ff-4519-83e5-4c06c8e39fb3",
   "metadata": {},
   "outputs": [
    {
     "data": {
      "text/plain": [
       "[120, 140, 160, 180]"
      ]
     },
     "execution_count": 66,
     "metadata": {},
     "output_type": "execute_result"
    }
   ],
   "source": [
    "# string-deletion - lets see how to delete multiple elements.\n",
    "\n",
    "num=[110,120,130,140,150,160,170,180,199]\n",
    "del num[::2]\n",
    "num\n"
   ]
  }
 ],
 "metadata": {
  "kernelspec": {
   "display_name": "Python 3 (ipykernel)",
   "language": "python",
   "name": "python3"
  },
  "language_info": {
   "codemirror_mode": {
    "name": "ipython",
    "version": 3
   },
   "file_extension": ".py",
   "mimetype": "text/x-python",
   "name": "python",
   "nbconvert_exporter": "python",
   "pygments_lexer": "ipython3",
   "version": "3.12.4"
  }
 },
 "nbformat": 4,
 "nbformat_minor": 5
}

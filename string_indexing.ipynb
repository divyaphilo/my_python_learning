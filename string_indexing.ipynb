{
 "cells": [
  {
   "cell_type": "code",
   "execution_count": 13,
   "id": "4aed59e3-4935-4a87-9616-941beccd89ae",
   "metadata": {},
   "outputs": [
    {
     "data": {
      "text/plain": [
       "('T', 'h', 'a', 'n', 'k', 'y', 'o', 'u')"
      ]
     },
     "execution_count": 13,
     "metadata": {},
     "output_type": "execute_result"
    }
   ],
   "source": [
    "# Indexing(Numbering)- POSITIVE INDEXING\n",
    "#  [012345670] this will allocate number from 0 onwards to each words below.\n",
    "a=\"Thankyou\"\n",
    "a[0],a[1],a[2],a[3],a[4],a[5],a[6],a[7]"
   ]
  },
  {
   "cell_type": "code",
   "execution_count": 23,
   "id": "c357cf99-f71e-41dd-8c6f-a606804750de",
   "metadata": {},
   "outputs": [
    {
     "data": {
      "text/plain": [
       "('a', 'n', 'k', 'y', 'o', 'u', 'T')"
      ]
     },
     "execution_count": 23,
     "metadata": {},
     "output_type": "execute_result"
    }
   ],
   "source": [
    "# POSITIVE INDEXING BELOW:\n",
    "\n",
    "a[-6],a[-5],a[-4],a[-3],a[-2],a[-1],a[-0]"
   ]
  },
  {
   "cell_type": "code",
   "execution_count": 33,
   "id": "a5803ec0-a0e3-42ff-bca8-1c2cdb7aa087",
   "metadata": {},
   "outputs": [
    {
     "data": {
      "text/plain": [
       "('hpyerig', 'happylearning', 'hpeng')"
      ]
     },
     "execution_count": 33,
     "metadata": {},
     "output_type": "execute_result"
    }
   ],
   "source": [
    "# String slicing - Meaning words or letter cropper (in my own words) its Syntax - [start:end-1]\n",
    " \n",
    "# Step Arguement: Parameter [start:end:step]\n",
    "\n",
    "a=\"happylearning\"\n",
    "a[0::2], a[0::1], a[0::3]\n"
   ]
  },
  {
   "cell_type": "code",
   "execution_count": null,
   "id": "fe3e68a5-ff5c-463d-b52b-7a02b468ead8",
   "metadata": {},
   "outputs": [],
   "source": []
  }
 ],
 "metadata": {
  "kernelspec": {
   "display_name": "Python 3 (ipykernel)",
   "language": "python",
   "name": "python3"
  },
  "language_info": {
   "codemirror_mode": {
    "name": "ipython",
    "version": 3
   },
   "file_extension": ".py",
   "mimetype": "text/x-python",
   "name": "python",
   "nbconvert_exporter": "python",
   "pygments_lexer": "ipython3",
   "version": "3.12.4"
  }
 },
 "nbformat": 4,
 "nbformat_minor": 5
}

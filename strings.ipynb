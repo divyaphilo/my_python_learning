{
 "cells": [
  {
   "cell_type": "code",
   "execution_count": 7,
   "id": "02f7fd59-76c4-46fe-b4fb-81c0a6300886",
   "metadata": {},
   "outputs": [
    {
     "name": "stdout",
     "output_type": "stream",
     "text": [
      "Divya shekar\n"
     ]
    }
   ],
   "source": [
    "# String concatenation:\n",
    "\n",
    "firstname=\"Divya\"\n",
    "lastname=\"shekar\"\n",
    "fullname=firstname+ \" \" +lastname\n",
    "print(fullname)"
   ]
  },
  {
   "cell_type": "code",
   "execution_count": 9,
   "id": "34f6d3c6-5950-43d0-8390-50bb8d99dd76",
   "metadata": {},
   "outputs": [
    {
     "name": "stdout",
     "output_type": "stream",
     "text": [
      "Divya shekar\n"
     ]
    }
   ],
   "source": [
    "print(fullname)"
   ]
  },
  {
   "cell_type": "code",
   "execution_count": 15,
   "id": "30327a2a-e8e8-4d60-9cdc-a55c726d1740",
   "metadata": {},
   "outputs": [
    {
     "name": "stdout",
     "output_type": "stream",
     "text": [
      "divyadivyadivyadivyadivya\n"
     ]
    }
   ],
   "source": [
    "# multiplying string with integer:\n",
    "\n",
    "name=\"divya\"\n",
    "result=\"divya\"*5\n",
    "print(result)"
   ]
  },
  {
   "cell_type": "markdown",
   "id": "5428a272-518a-462e-b318-6f4b99346d04",
   "metadata": {},
   "source": [
    "Printing the STRING STATEMENTS:-"
   ]
  },
  {
   "cell_type": "code",
   "execution_count": 29,
   "id": "2366272c-433b-40e5-ac99-5cd919784c98",
   "metadata": {},
   "outputs": [
    {
     "name": "stdout",
     "output_type": "stream",
     "text": [
      "you are learning python in youtube\n"
     ]
    }
   ],
   "source": [
    "a=\"learning python\"\n",
    "b=\"youtube\"\n",
    "print(\"you are \"+a+\" in \" +b)\n"
   ]
  },
  {
   "cell_type": "code",
   "execution_count": 37,
   "id": "018ea2e4-d12b-433c-94f6-29911ec6e9fe",
   "metadata": {},
   "outputs": [
    {
     "name": "stdout",
     "output_type": "stream",
     "text": [
      "i'am leanring learning sql in udemy\n"
     ]
    }
   ],
   "source": [
    "x=\"learning sql\"\n",
    "y=\"udemy\"\n",
    "print(\"i'am leanring \"+x+\" in \" +y)"
   ]
  },
  {
   "cell_type": "code",
   "execution_count": 1,
   "id": "629d4aab-0009-4c49-ac21-692e27c9c31f",
   "metadata": {},
   "outputs": [
    {
     "ename": "SyntaxError",
     "evalue": "invalid syntax (3468146655.py, line 3)",
     "output_type": "error",
     "traceback": [
      "\u001b[1;36m  Cell \u001b[1;32mIn[1], line 3\u001b[1;36m\u001b[0m\n\u001b[1;33m    Christian Bale\u001b[0m\n\u001b[1;37m              ^\u001b[0m\n\u001b[1;31mSyntaxError\u001b[0m\u001b[1;31m:\u001b[0m invalid syntax\n"
     ]
    }
   ],
   "source": [
    "#Task 01: Create two string variables: first_name and last_name. Concatenate them with a space in between to form a full name. Print the result.\n",
    "\n",
    "Christian Bale\n",
    "\n",
    "firstname=\"Christian\"\n",
    "lastname=\"Bale\"\n",
    "fullname=firstname+ \" \" +lastname\n",
    "print(fullname)\n"
   ]
  },
  {
   "cell_type": "code",
   "execution_count": 3,
   "id": "5189cc37-bc43-4790-894a-1001972f3dc4",
   "metadata": {},
   "outputs": [
    {
     "name": "stdout",
     "output_type": "stream",
     "text": [
      "Christian Bale\n"
     ]
    }
   ],
   "source": [
    "firstname=\"Christian\"\n",
    "lastname=\"Bale\"\n",
    "fullname=firstname+ \" \" +lastname\n",
    "print(fullname)"
   ]
  },
  {
   "cell_type": "code",
   "execution_count": 13,
   "id": "92c976b9-b692-4d06-a45e-cf5d55cf5a27",
   "metadata": {},
   "outputs": [
    {
     "name": "stdout",
     "output_type": "stream",
     "text": [
      "Chhota Bheem\n"
     ]
    }
   ],
   "source": [
    "firstname=\"Chhota\"\n",
    "lastname=\"Bheem\"\n",
    "fullname=firstname+ \" \" +lastname\n",
    "print(fullname)"
   ]
  },
  {
   "cell_type": "code",
   "execution_count": 15,
   "id": "1ab6b712-7429-41e0-8309-84333050858f",
   "metadata": {},
   "outputs": [
    {
     "name": "stdout",
     "output_type": "stream",
     "text": [
      "Melanie Stephen\n"
     ]
    }
   ],
   "source": [
    "firstname=\"Melanie\"\n",
    "lastname=\"Stephen\"\n",
    "fullname=firstname+ \" \" +lastname\n",
    "print(fullname)"
   ]
  },
  {
   "cell_type": "code",
   "execution_count": 19,
   "id": "d7c3d3c4-2311-49f7-b9cb-3785b9e17cc4",
   "metadata": {},
   "outputs": [
    {
     "name": "stdout",
     "output_type": "stream",
     "text": [
      "I Love python programming\n"
     ]
    }
   ],
   "source": [
    "# Task 02: Concatenate three strings: \"I love \", \"Python\", and \" programming!\" to form the sentence: \"I love Python programming!\". Print the result.\n",
    "\n",
    "c=\"I Love\"\n",
    "d=\"python\"\n",
    "e=\"programming\"\n",
    "print(c+ \" \" +d+ \" \" +e)\n"
   ]
  },
  {
   "cell_type": "code",
   "execution_count": 5,
   "id": "8c48b78f-ea9a-47a7-af13-fd601486cba6",
   "metadata": {},
   "outputs": [
    {
     "name": "stdout",
     "output_type": "stream",
     "text": [
      "Hello Hello Hello \n"
     ]
    }
   ],
   "source": [
    "# Task 03: Given a string \"Hello\", concatenate it 3 times with a space between each repetition. Print the result.\n",
    "\n",
    "\n",
    "name=\"Hello\"\n",
    "result=(name + \" \") *3\n",
    "print(result)"
   ]
  },
  {
   "cell_type": "code",
   "execution_count": 7,
   "id": "85c8f429-f291-4cdc-affa-727665636bf3",
   "metadata": {},
   "outputs": [
    {
     "name": "stdout",
     "output_type": "stream",
     "text": [
      "Index Index Index Index Index \n"
     ]
    }
   ],
   "source": [
    "# word 'Index' 5 times.\n",
    "\n",
    "name=\"Index\"\n",
    "result=(name+ \" \") *5\n",
    "print(result)"
   ]
  },
  {
   "cell_type": "code",
   "execution_count": 9,
   "id": "bf66076b-4095-4a43-9b1b-b0bd272ff6ec",
   "metadata": {},
   "outputs": [
    {
     "name": "stdout",
     "output_type": "stream",
     "text": [
      "Invisible Invisible Invisible Invisible Invisible Invisible Invisible Invisible Invisible Invisible \n"
     ]
    }
   ],
   "source": [
    "# word 'Invisible'\n",
    "\n",
    "name=\"Invisible\"\n",
    "result=(name+ \" \")*10\n",
    "print(result)"
   ]
  },
  {
   "cell_type": "code",
   "execution_count": 33,
   "id": "2dc98c3a-d202-486d-b925-1d7d1f2848af",
   "metadata": {},
   "outputs": [
    {
     "name": "stdout",
     "output_type": "stream",
     "text": [
      "I'm learning Learing python in youtube\n",
      "I'm leaning Learing python in youtube\n",
      "I'm leaning Learing python in youtube\n"
     ]
    }
   ],
   "source": [
    "# Printing the 'String Statements'.\n",
    "\n",
    "a=\"Learing python\"\n",
    "b=\"youtube\"\n",
    "print(\"I'm learning \"+a+\" in \" +b)\n",
    "print(\"I'm leaning {a} in {b}\".format(a=a,b=b))\n",
    "print(\"I'm leaning {} in {}\".format(a,b))\n"
   ]
  }
 ],
 "metadata": {
  "kernelspec": {
   "display_name": "Python 3 (ipykernel)",
   "language": "python",
   "name": "python3"
  },
  "language_info": {
   "codemirror_mode": {
    "name": "ipython",
    "version": 3
   },
   "file_extension": ".py",
   "mimetype": "text/x-python",
   "name": "python",
   "nbconvert_exporter": "python",
   "pygments_lexer": "ipython3",
   "version": "3.12.4"
  }
 },
 "nbformat": 4,
 "nbformat_minor": 5
}
